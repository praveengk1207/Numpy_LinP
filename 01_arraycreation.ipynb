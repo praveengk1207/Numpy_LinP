{
 "cells": [
  {
   "cell_type": "markdown",
   "metadata": {},
   "source": [
    "# NumPy: Creating Arrays\n",
    "\n",
    "1. **What is NumPy?**\n",
    "   > NumPy is a popular Python library used for working with arrays and performing numerical computations.\n",
    "\n",
    "2. **What is an ndarray?**\n",
    "   > The array object in NumPy is called an `ndarray` (N-dimensional array).\n",
    "   >\n",
    "   > It is used to store collections of numbers in a grid-like format (1D, 2D, 3D, etc.).\n",
    "\n",
    "3. **Creating an ndarray:**\n",
    "   > You can create a NumPy `ndarray` object by using the `array()` function.\n"
   ]
  },
  {
   "cell_type": "code",
   "execution_count": 2,
   "metadata": {},
   "outputs": [
    {
     "name": "stdout",
     "output_type": "stream",
     "text": [
      "ndarray: [ 50  60  70  80 100]\n"
     ]
    }
   ],
   "source": [
    "import numpy as np\n",
    "\n",
    "arr = np.array([50, 60, 70, 80, 100])\n",
    "\n",
    "print(f\"ndarray: {arr}\")"
   ]
  },
  {
   "cell_type": "markdown",
   "metadata": {},
   "source": [
    "## Understanding the `type()` Function in Python\n",
    "\n",
    "- **Purpose**: The `type()` function is a built-in Python function that returns the type of an object.\n",
    "\n",
    "- **Syntax**: \n",
    "  ```python\n",
    "  type(object)\n",
    "\n",
    ">Like in below code it shows that arr is numpy.ndarray type."
   ]
  },
  {
   "cell_type": "code",
   "execution_count": 3,
   "metadata": {},
   "outputs": [
    {
     "name": "stdout",
     "output_type": "stream",
     "text": [
      "<class 'numpy.ndarray'>\n"
     ]
    }
   ],
   "source": [
    "print(type(arr))"
   ]
  },
  {
   "cell_type": "markdown",
   "metadata": {},
   "source": [
    "# Creating a NumPy Array from a Tuple\n",
    "\n",
    ">You can easily create a NumPy array from a `tuple`.\n"
   ]
  },
  {
   "cell_type": "code",
   "execution_count": 14,
   "metadata": {},
   "outputs": [
    {
     "name": "stdout",
     "output_type": "stream",
     "text": [
      "ndarray created using tuple: [10 20 30 40 50]\n"
     ]
    }
   ],
   "source": [
    "import numpy as np\n",
    "\n",
    "arr = np.array((10, 20, 30, 40, 50))\n",
    "\n",
    "print(f\"ndarray created using tuple: {arr}\")"
   ]
  }
 ],
 "metadata": {
  "kernelspec": {
   "display_name": "Python (myenv)",
   "language": "python",
   "name": "myenv"
  },
  "language_info": {
   "codemirror_mode": {
    "name": "ipython",
    "version": 3
   },
   "file_extension": ".py",
   "mimetype": "text/x-python",
   "name": "python",
   "nbconvert_exporter": "python",
   "pygments_lexer": "ipython3",
   "version": "3.12.5"
  }
 },
 "nbformat": 4,
 "nbformat_minor": 2
}
