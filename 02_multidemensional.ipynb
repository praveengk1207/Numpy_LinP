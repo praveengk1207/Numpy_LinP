{
 "cells": [
  {
   "cell_type": "markdown",
   "metadata": {},
   "source": [
    "# Dimensions in Arrays\n",
    "\n",
    "### Definition\n",
    "- >A **dimension** in arrays refers to one level of array depth, indicating how many `indices are needed to access an element`.\n",
    "- >**Nested arrays** are arrays that have other arrays as their elements.\n",
    "\n",
    "### Types of Arrays\n",
    "- >**0-D Array**: A scalar value with no dimensions (e.g., `5`).\n",
    "- >**1-D Array**: A single level of depth, like a list of values (e.g., `[1, 2, 3]`).\n",
    "- >**2-D Array**: An array of arrays, resembling a matrix (e.g., `[[1, 2, 3], [4, 5, 6]]`).\n",
    "- >**3-D Array**: An array of 2-D arrays, similar to a collection of matrices (e.g., `[[[1, 2, 3], [4, 5, 6]]]`).\n",
    "\n",
    "### Key Points\n",
    "- >Each additional dimension increases the level of complexity` and data representation.\n",
    "- >The number of dimensions determines how data is structured and accessed.\n",
    "\n",
    "### Interesting Facts\n",
    "- >**Higher Dimensions**: Arrays can have more than three dimensions, such as `4-D arrays`, which are used in `advanced applications` like `video data` processing.\n",
    "- >**Memory Layout**: The way arrays are stored in memory can differ based on their dimensions, `affecting performance in computations`.\n",
    "- >**Applications**: Multi-dimensional arrays are widely used in `data analysis`, `machine learning`, and `scientific computing`, making them essential in these fields.\n"
   ]
  },
  {
   "cell_type": "markdown",
   "metadata": {},
   "source": [
    "# 0-D Arrays\n",
    "**Definition:**\n",
    "\n",
    "- >0-D arrays, also known as scalars, are the simplest form of arrays.\n",
    "\n",
    "- >They contain only a single element.\n",
    "\n",
    "- >Each value in an array is considered a 0-D array.\n",
    "\n",
    "***Example:***\n",
    "\n",
    "Create a `0-D` array with the value `55`."
   ]
  },
  {
   "cell_type": "code",
   "execution_count": 4,
   "metadata": {},
   "outputs": [
    {
     "name": "stdout",
     "output_type": "stream",
     "text": [
      "55\n"
     ]
    }
   ],
   "source": [
    "import numpy as np\n",
    "\n",
    "arr = np.array(55)\n",
    "\n",
    "print(arr)"
   ]
  },
  {
   "cell_type": "markdown",
   "metadata": {},
   "source": [
    "# 1-D Arrays\n",
    "\n",
    "### Definition\n",
    ">A 1-D array, also known as a uni-dimensional array, is an array where each element is a 0-D array (a single value). This is the most common and basic type of array.\n",
    "\n",
    "### Key Points\n",
    "- >1-D arrays are like lists or sequences of numbers, making them easy to understand and use.\n",
    "- >They are ideal for storing simple data, like a `list` of numbers or a series of measurements.\n",
    "\n",
    "### Interesting Fact\n",
    ">Did you know? In Python, a 1-D array can be seen as a row of values, which is why it’s often used to represent vectors in mathematics.\n",
    "\n",
    "### Example\n",
    ">Create a `1-D` array containing the values `20, 45, 22, 41, 96`.\n"
   ]
  },
  {
   "cell_type": "code",
   "execution_count": 1,
   "metadata": {},
   "outputs": [
    {
     "name": "stdout",
     "output_type": "stream",
     "text": [
      "[20 45 22 41 96]\n"
     ]
    }
   ],
   "source": [
    "import numpy as np\n",
    "\n",
    "arr = np.array([20, 45, 22, 41, 96])\n",
    "\n",
    "print(arr)"
   ]
  },
  {
   "cell_type": "markdown",
   "metadata": {},
   "source": [
    "## 2-D Arrays in NumPy\n",
    "\n",
    "### Definition\n",
    "- >A 2-D array contains 1-D arrays as elements, resembling a table with rows and columns.\n",
    "\n",
    "### Usage\n",
    "- >Used to represent matrices or second-order tensors.\n",
    "\n",
    "### NumPy Matrix Operations\n",
    "- >The submodule `numpy.mat` is designed for matrix manipulations.\n",
    "\n",
    "### Interesting Facts\n",
    "- >**Shape**: Use `arr.shape` to get the number of rows and columns.\n",
    "- >**Element Access**: Access elements with two indices, e.g., `arr[0, 1]` (value 2).\n",
    "- >**Matrix Operations**: Perform addition, multiplication, and inversion with NumPy functions.\n",
    "- >**Visualization**: Use libraries like Matplotlib to visualize 2-D arrays as images or heatmaps.\n"
   ]
  },
  {
   "cell_type": "code",
   "execution_count": 2,
   "metadata": {},
   "outputs": [
    {
     "name": "stdout",
     "output_type": "stream",
     "text": [
      "[[1 2 3]\n",
      " [4 5 6]]\n"
     ]
    }
   ],
   "source": [
    "import numpy as np\n",
    "\n",
    "arr = np.array([[1, 2, 3], [4, 5, 6]])\n",
    "\n",
    "print(arr)"
   ]
  },
  {
   "cell_type": "markdown",
   "metadata": {},
   "source": [
    "# 3-D Arrays in NumPy\n",
    "\n",
    "### Definition\n",
    "- >A **3-D array** is an array that has 2-D arrays (matrices) as its elements. It can be visualized as a collection of matrices stacked together.\n",
    "\n",
    "### Usage\n",
    "- >3-D arrays are often used to represent **third-order tensors**, which are useful in various applications, including computer graphics and data science.\n",
    "\n",
    "\n",
    "\n",
    "### Interesting Facts\n",
    "\n",
    "- >**Shape**: You can use `arr.shape` to get the dimensions of the 3-D array, which shows the number of matrices, rows, and columns.\n",
    "- >**Element Access**: Access elements with three indices, e.g., `arr[0, 1, 2]` to get the value in the first matrix, second row, and third column.\n",
    "- >**Applications**: 3-D arrays are widely used in machine learning and deep learning to represent data such as images (height, width, channels).\n",
    "- >**Visualization**: Libraries like Matplotlib can be used to visualize 3-D data in various ways, including 3-D plots and surface plots.\n",
    "\n",
    "### Example Code\n",
    "Here's how to create a 3-D array in NumPy:"
   ]
  },
  {
   "cell_type": "code",
   "execution_count": 3,
   "metadata": {},
   "outputs": [
    {
     "name": "stdout",
     "output_type": "stream",
     "text": [
      "[[[1 2 3]\n",
      "  [4 5 6]]\n",
      "\n",
      " [[1 2 3]\n",
      "  [4 5 6]]]\n"
     ]
    }
   ],
   "source": [
    "import numpy as np\n",
    "\n",
    "arr = np.array([[[1, 2, 3], [4, 5, 6]], [[1, 2, 3], [4, 5, 6]]])\n",
    "\n",
    "print(arr)"
   ]
  }
 ],
 "metadata": {
  "kernelspec": {
   "display_name": "Python (myenv)",
   "language": "python",
   "name": "myenv"
  },
  "language_info": {
   "codemirror_mode": {
    "name": "ipython",
    "version": 3
   },
   "file_extension": ".py",
   "mimetype": "text/x-python",
   "name": "python",
   "nbconvert_exporter": "python",
   "pygments_lexer": "ipython3",
   "version": "3.12.5"
  }
 },
 "nbformat": 4,
 "nbformat_minor": 2
}
