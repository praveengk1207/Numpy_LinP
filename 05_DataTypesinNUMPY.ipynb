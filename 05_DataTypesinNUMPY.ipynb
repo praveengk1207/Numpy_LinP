{
 "cells": [
  {
   "cell_type": "code",
   "execution_count": null,
   "id": "2bf25a2e-7a1d-4f4a-841c-82ee53e50a87",
   "metadata": {},
   "outputs": [],
   "source": [
    "#Data Types in Python\n",
    "\n",
    "#Numeric\n",
    "# **int**: Holds integer values, e.g., `5`, `-42`.\n",
    "# **float**: Holds floating-point values (decimals), e.g., `3.14`, `-0.001`.\n",
    "# **complex**: Holds complex numbers, e.g., `3+4j`.\n",
    "\n",
    "#String\n",
    "# **str**: Holds sequences of characters, e.g., `\"hello\"`, `\"Python\"`.\n",
    "\n",
    "# Sequence\n",
    "# **list**: Holds a collection of items that can be modified (mutable), e.g., `[1, 2, 3]`.\n",
    "# **tuple**: Holds a collection of items that cannot be modified (immutable), e.g., `(1, 2, 3)`.\n",
    "# **range**: Represents a sequence of numbers, commonly used in loops, e.g., `range(5)` which generates `0, 1, 2, 3, 4`.\n",
    "\n",
    "# Mapping\n",
    "# **dict**: Holds data in key-value pairs, e.g., `{\"name\": \"Alice\", \"age\": 30}`.\n",
    "\n",
    "#Boolean\n",
    "# **bool**: Holds one of two values: `True` or `False`.\n",
    "\n",
    "# Set\n",
    "# **set**: Holds a collection of unique items, e.g., `{1, 2, 3}`.\n",
    "# **frozenset**: Holds a collection of unique items that cannot be modified (immutable), e.g., `frozenset([1, 2, 3])`."
   ]
  },
  {
   "cell_type": "code",
   "execution_count": null,
   "id": "afc8e844-1fc5-404a-8e0a-159b7b03b946",
   "metadata": {},
   "outputs": [],
   "source": [
    "#list of all data types in NumPy and the characters used to represent them.\n",
    "\n",
    "# i - integer\n",
    "# b - boolean\n",
    "# u - unsigned integer\n",
    "# f - float\n",
    "# c - complex float\n",
    "# m - timedelta\n",
    "# M - datetime\n",
    "# O - object\n",
    "# S - string\n",
    "# U - unicode string\n",
    "# V - fixed chunk of memory for other type ( void )"
   ]
  },
  {
   "cell_type": "code",
   "execution_count": 1,
   "id": "a11e43f9-1b09-4edd-bfd2-c23f813d1643",
   "metadata": {},
   "outputs": [
    {
     "name": "stdout",
     "output_type": "stream",
     "text": [
      "int32\n"
     ]
    }
   ],
   "source": [
    " #dtype to return the data type of the array:\n",
    "\n",
    "#example for array of integers: \n",
    "\n",
    "import numpy as np\n",
    "arr = np.array([1, 2, 3, 4])\n",
    "print(arr.dtype)"
   ]
  },
  {
   "cell_type": "code",
   "execution_count": 2,
   "id": "772f5012-1aa3-4022-8580-745e01e337ae",
   "metadata": {},
   "outputs": [
    {
     "name": "stdout",
     "output_type": "stream",
     "text": [
      "<U6\n"
     ]
    }
   ],
   "source": [
    "#example for array of strings:\n",
    "\n",
    "import numpy as np\n",
    "arr = np.array(['apple', 'banana', 'cherry'])\n",
    "print(arr.dtype)"
   ]
  },
  {
   "cell_type": "code",
   "execution_count": null,
   "id": "050d6a63-1cf8-4811-97d4-669b6608c118",
   "metadata": {},
   "outputs": [],
   "source": [
    "# The dtype <U6 stands for Unicode string data type in numpy.\n",
    "# < indicates little-endian byte order.\n",
    "# U signifies that the elements are Unicode strings.\n",
    "# 6 specifies the length of the longest string in the array. In this case, the longest string is 'banana', which has 6 characters."
   ]
  }
 ],
 "metadata": {
  "kernelspec": {
   "display_name": "Python 3 (ipykernel)",
   "language": "python",
   "name": "python3"
  },
  "language_info": {
   "codemirror_mode": {
    "name": "ipython",
    "version": 3
   },
   "file_extension": ".py",
   "mimetype": "text/x-python",
   "name": "python",
   "nbconvert_exporter": "python",
   "pygments_lexer": "ipython3",
   "version": "3.12.0"
  }
 },
 "nbformat": 4,
 "nbformat_minor": 5
}
