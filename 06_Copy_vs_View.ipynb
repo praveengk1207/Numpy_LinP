{
 "cells": [
  {
   "cell_type": "code",
   "execution_count": null,
   "id": "bd946f26-9629-4c0d-8ece-d3e4ac6b87d6",
   "metadata": {},
   "outputs": [],
   "source": [
    "#copy and view in numpy"
   ]
  },
  {
   "cell_type": "code",
   "execution_count": 2,
   "id": "1a201d68-e8c8-4a29-a862-d2fefa8b467d",
   "metadata": {},
   "outputs": [
    {
     "name": "stdout",
     "output_type": "stream",
     "text": [
      "[1 2 3 4 5]\n",
      "[ 1 22  3  4  5]\n"
     ]
    }
   ],
   "source": [
    "#example for copy\n",
    "import numpy as np\n",
    "arr = np.array([1,2,3,4,5])\n",
    "x = arr.copy()\n",
    "x[1] = 22\n",
    "print(arr)\n",
    "print(x)"
   ]
  },
  {
   "cell_type": "code",
   "execution_count": 3,
   "id": "e2b61ac2-4919-4ee1-9ab1-2ae0fa4c1f79",
   "metadata": {},
   "outputs": [
    {
     "name": "stdout",
     "output_type": "stream",
     "text": [
      "[ 1 22  3  4  5]\n",
      "[ 1 22  3  4  5]\n"
     ]
    }
   ],
   "source": [
    "#example for copy\n",
    "import numpy as np\n",
    "arr = np.array([1,2,3,4,5])\n",
    "x = arr.view()\n",
    "x[1] = 222\n",
    "print(arr)\n",
    "print(x)"
   ]
  },
  {
   "cell_type": "code",
   "execution_count": 3,
   "id": "7e610815-47aa-4e81-bb79-bbcd16354b5e",
   "metadata": {},
   "outputs": [
    {
     "name": "stdout",
     "output_type": "stream",
     "text": [
      "None\n",
      "[1 2 3 4 5]\n"
     ]
    }
   ],
   "source": [
    "#Print the value of the base attribute to check if an array owns it's data or not:\n",
    "\n",
    "import numpy as np\n",
    "arr = np.array([1, 2, 3, 4, 5])\n",
    "x = arr.copy()\n",
    "y = arr.view()\n",
    "print(x.base)\n",
    "print(y.base)"
   ]
  }
 ],
 "metadata": {
  "kernelspec": {
   "display_name": "Python 3 (ipykernel)",
   "language": "python",
   "name": "python3"
  },
  "language_info": {
   "codemirror_mode": {
    "name": "ipython",
    "version": 3
   },
   "file_extension": ".py",
   "mimetype": "text/x-python",
   "name": "python",
   "nbconvert_exporter": "python",
   "pygments_lexer": "ipython3",
   "version": "3.12.0"
  }
 },
 "nbformat": 4,
 "nbformat_minor": 5
}
